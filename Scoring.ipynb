{
 "cells": [
  {
   "cell_type": "markdown",
   "metadata": {},
   "source": [
    "# Proton Scoring/Future Prediction"
   ]
  },
  {
   "cell_type": "markdown",
   "metadata": {},
   "source": [
    "### Dependencies"
   ]
  },
  {
   "cell_type": "code",
   "execution_count": 1,
   "metadata": {
    "scrolled": true
   },
   "outputs": [],
   "source": [
    "# !pip3 install swifter\n",
    "# !pip3 install xgboost\n",
    "# !pip3 install tqdm\n",
    "# !pip3 install category_encoders\n",
    "# !pip3 install joblib\n",
    "# !pip3 install scikit-plot\n",
    "# !pip3 install catboost\n",
    "# !pip3 install RegscorePy\n",
    "# !pip3 install -U spacy\n",
    "# !pip3 install gensim\n",
    "# !pip3 install xlrd\n",
    "# !pip3 install lightgbm\n",
    "# !pip3 install hyperopt\n",
    "# !pip3 install holidays\n",
    "# !pip3 install textblob\n",
    "\n",
    "# Download en_core_web_sm for text analytics"
   ]
  },
  {
   "cell_type": "markdown",
   "metadata": {},
   "source": [
    "## Imports"
   ]
  },
  {
   "cell_type": "code",
   "execution_count": 2,
   "metadata": {
    "scrolled": true
   },
   "outputs": [],
   "source": [
    "from userInputs import importFile,dataHandler\n",
    "from engineerings import *\n",
    "from all_other_functions import getDF\n",
    "from score import *\n",
    "import joblib\n",
    "import warnings\n",
    "warnings.filterwarnings('ignore')"
   ]
  },
  {
   "cell_type": "markdown",
   "metadata": {},
   "source": [
    "## Main Function"
   ]
  },
  {
   "cell_type": "code",
   "execution_count": 3,
   "metadata": {
    "scrolled": false
   },
   "outputs": [
    {
     "output_type": "stream",
     "name": "stdout",
     "text": [
      "#### RUNNING WAIT ####\n",
      "extension is csv\n",
      "We have a csv file\n",
      "This file has 27 columns and 5572 rows\n",
      "Index(['ORDERDATE', 'Date', 'PostingDate', 'LAST_GIFTDATE',\n",
      "       'lastTransactionDate', 'CMP_A_FIRST_I_DATE', 'SchoolName', 'CBSA_DESC',\n",
      "       'AddressFull', 'DEADCAT', 'toobigsmall', 'AVERAGE_ACCT_AGE', 'Latitude',\n",
      "       'Longitude', 'LatitudeLongitude', 'PHONE', 'CDOLL10_AVGGIFT', 'income',\n",
      "       'YearsCoding', 'emp_length', 'CompanySize', 'url', 'emailaddress',\n",
      "       'NTEECoreCodeName', 'v2', 'JobSearchStatus', 'ReviewText'],\n",
      "      dtype='object')\n",
      "Columns Match!\n",
      "\n",
      "#### Entering Numeric Engineering ####\n",
      "\n",
      "\t\t stripping spaces, symbols, and lower casing all entries\n",
      "done ...\n",
      "\t\t Replacing empty and invalid strings\n",
      "done ...\n",
      "\t\t Replacing commas if present in Currencies\n",
      "done ...\n",
      "\t\t Finding Numeric Columns\n",
      "done ...\n",
      "\t\t   ORDERDATE is of type object\n",
      "\t\t   Date is of type object\n",
      "\t\t   PostingDate is of type object\n",
      "\t\t   LAST_GIFTDATE is of type object\n",
      "\t\t   lastTransactionDate is of type object\n",
      "\t\t   CMP_A_FIRST_I_DATE is of type object\n",
      "\t\t   SchoolName is of type object\n",
      "\t\t   CBSA_DESC is of type object\n",
      "\t\t   AddressFull is of type object\n",
      "\t\t   DEADCAT is of type object\n",
      "\t\t   toobigsmall is of type float64\n",
      "\t\t   AVERAGE_ACCT_AGE is of type object\n",
      "\t\t   Latitude is of type float64\n",
      "\t\t   Longitude is of type float64\n",
      "\t\t   LatitudeLongitude is of type object\n",
      "\t\t   PHONE is of type object\n",
      "\t\t   CDOLL10_AVGGIFT is of type object\n",
      "\t\t   income is of type object\n",
      "\t\t   YearsCoding is of type object\n",
      "\t\t   emp_length is of type object\n",
      "\t\t   CompanySize is of type object\n",
      "\t\t   url is of type object\n",
      "\t\t   emailaddress is of type object\n",
      "\t\t   NTEECoreCodeName is of type object\n",
      "\t\t   v2 is of type object\n",
      "\t\t   JobSearchStatus is of type object\n",
      "\t\t   ReviewText is of type object\n",
      "Numeric Engineering time taken: 0.29960012435913086\n",
      "\n",
      "\n",
      "\n",
      "\t #### VALIDATION AND SCORING ZONE ####\n",
      "\n",
      "\t Entering Date Engineering\n",
      "\n",
      "Printing Missing % of date columns\n",
      "                     Missing in %\n",
      "CMP_A_FIRST_I_DATE          39.43\n",
      "ORDERDATE                   12.13\n",
      "LAST_GIFTDATE                9.10\n",
      "lastTransactionDate          9.10\n",
      "PostingDate                  9.10\n",
      "\n",
      "\t #### RUNNING WAIT ####\n",
      "Pandas Apply: 100%|██████████| 2/2 [00:00<00:00, 844.18it/s]\n",
      "Visualizing Coloumns Generated\n",
      " {'ORDERDATE': ['ORDERDATE_month', 'ORDERDATE_year', 'ORDERDATE-today', 'ORDERDATE_nearestHoliday'], 'PostingDate': ['PostingDate_month', 'PostingDate_year', 'PostingDate-today', 'PostingDate_nearestHoliday'], 'lastTransactionDate': ['lastTransactionDate_month', 'lastTransactionDate_year', 'lastTransactionDate-today', 'lastTransactionDate_nearestHoliday'], 'CMP_A_FIRST_I_DATE': ['CMP_A_FIRST_I_DATE_month', 'CMP_A_FIRST_I_DATE_year', 'CMP_A_FIRST_I_DATE-today', 'CMP_A_FIRST_I_DATE_nearestHoliday'], 'LAST_GIFTDATE': ['LAST_GIFTDATE_month', 'LAST_GIFTDATE_year', 'LAST_GIFTDATE-today', 'LAST_GIFTDATE_nearestHoliday']}\n",
      "\n",
      "The Following columns were generated to get days between dates of two seperate date columns\n",
      " ['ORDERDATE-PostingDate', 'ORDERDATE-lastTransactionDate', 'ORDERDATE-CMP_A_FIRST_I_DATE', 'ORDERDATE-LAST_GIFTDATE', 'PostingDate-lastTransactionDate', 'PostingDate-CMP_A_FIRST_I_DATE', 'PostingDate-LAST_GIFTDATE', 'lastTransactionDate-CMP_A_FIRST_I_DATE', 'lastTransactionDate-LAST_GIFTDATE', 'CMP_A_FIRST_I_DATE-LAST_GIFTDATE']\n",
      "\n",
      "Date Engineering Time Taken : 1.7168750762939453\n",
      "\n",
      "\t #### DONE ####\n",
      "The review/comment columns found are ['ReviewText']\n",
      "\n",
      "      ReviewText-Polarity  ReviewText-Subjectivity\n",
      "S.No                                              \n",
      "0                0.150000                 0.762500\n",
      "1                0.500000                 0.500000\n",
      "2                0.300000                 0.550000\n",
      "3                0.100000                 0.300000\n",
      "4                0.000000                 0.000000\n",
      "...                   ...                      ...\n",
      "5567             0.180556                 0.611111\n",
      "5568             0.000000                 0.000000\n",
      "5569            -0.112500                 0.287500\n",
      "5570             0.216667                 0.433333\n",
      "5571             0.575000                 0.775000\n",
      "\n",
      "[5572 rows x 2 columns]\n",
      "Sentiment time 5.46183705329895\n",
      "Bag of Words Corpus length 5572\n"
     ]
    },
    {
     "output_type": "error",
     "ename": "IndexError",
     "evalue": "index 436 is out of bounds for axis 1 with size 436",
     "traceback": [
      "\u001b[0;31m---------------------------------------------------------------------------\u001b[0m",
      "\u001b[0;31mIndexError\u001b[0m                                Traceback (most recent call last)",
      "\u001b[0;32m<ipython-input-3-3c66497cea97>\u001b[0m in \u001b[0;36m<module>\u001b[0;34m\u001b[0m\n\u001b[1;32m     27\u001b[0m \u001b[0;34m\u001b[0m\u001b[0m\n\u001b[1;32m     28\u001b[0m \u001b[0;32mif\u001b[0m \u001b[0m__name__\u001b[0m \u001b[0;34m==\u001b[0m \u001b[0;34m'__main__'\u001b[0m\u001b[0;34m:\u001b[0m\u001b[0;34m\u001b[0m\u001b[0;34m\u001b[0m\u001b[0m\n\u001b[0;32m---> 29\u001b[0;31m     \u001b[0mmain\u001b[0m\u001b[0;34m(\u001b[0m\u001b[0;34m)\u001b[0m\u001b[0;34m\u001b[0m\u001b[0;34m\u001b[0m\u001b[0m\n\u001b[0m",
      "\u001b[0;32m<ipython-input-3-3c66497cea97>\u001b[0m in \u001b[0;36mmain\u001b[0;34m()\u001b[0m\n\u001b[1;32m     21\u001b[0m \u001b[0;34m\u001b[0m\u001b[0m\n\u001b[1;32m     22\u001b[0m     \u001b[0;31m# SCORE\u001b[0m\u001b[0;34m\u001b[0m\u001b[0;34m\u001b[0m\u001b[0;34m\u001b[0m\u001b[0m\n\u001b[0;32m---> 23\u001b[0;31m     \u001b[0moutputFile\u001b[0m \u001b[0;34m=\u001b[0m \u001b[0mscore\u001b[0m\u001b[0;34m(\u001b[0m\u001b[0mdf\u001b[0m\u001b[0;34m,\u001b[0m\u001b[0mmodel_info\u001b[0m\u001b[0;34m)\u001b[0m\u001b[0;34m\u001b[0m\u001b[0;34m\u001b[0m\u001b[0m\n\u001b[0m\u001b[1;32m     24\u001b[0m \u001b[0;34m\u001b[0m\u001b[0m\n\u001b[1;32m     25\u001b[0m     \u001b[0mprint\u001b[0m\u001b[0;34m(\u001b[0m\u001b[0;34m'Done!'\u001b[0m\u001b[0;34m)\u001b[0m\u001b[0;34m\u001b[0m\u001b[0;34m\u001b[0m\u001b[0m\n",
      "\u001b[0;32m~/Environments/development/Protonautoml/score.py\u001b[0m in \u001b[0;36mscore\u001b[0;34m(df, init_info, validation)\u001b[0m\n\u001b[1;32m     85\u001b[0m         \u001b[0mind\u001b[0m \u001b[0;34m=\u001b[0m \u001b[0;36m0\u001b[0m\u001b[0;34m\u001b[0m\u001b[0;34m\u001b[0m\u001b[0m\n\u001b[1;32m     86\u001b[0m         \u001b[0;32mfor\u001b[0m \u001b[0mcol\u001b[0m \u001b[0;32min\u001b[0m \u001b[0mnew_frame\u001b[0m\u001b[0;34m.\u001b[0m\u001b[0mcolumns\u001b[0m\u001b[0;34m:\u001b[0m\u001b[0;34m\u001b[0m\u001b[0;34m\u001b[0m\u001b[0m\n\u001b[0;32m---> 87\u001b[0;31m             \u001b[0mtopic_frame\u001b[0m\u001b[0;34m,\u001b[0m \u001b[0m_\u001b[0m \u001b[0;34m=\u001b[0m \u001b[0mtopicExtraction\u001b[0m\u001b[0;34m(\u001b[0m\u001b[0mnew_frame\u001b[0m\u001b[0;34m[\u001b[0m\u001b[0;34m[\u001b[0m\u001b[0mcol\u001b[0m\u001b[0;34m]\u001b[0m\u001b[0;34m]\u001b[0m\u001b[0;34m,\u001b[0m\u001b[0;32mTrue\u001b[0m\u001b[0;34m,\u001b[0m\u001b[0mlda_models\u001b[0m\u001b[0;34m[\u001b[0m\u001b[0;34m'Model'\u001b[0m\u001b[0;34m]\u001b[0m\u001b[0;34m[\u001b[0m\u001b[0mind\u001b[0m\u001b[0;34m]\u001b[0m\u001b[0;34m)\u001b[0m\u001b[0;34m\u001b[0m\u001b[0;34m\u001b[0m\u001b[0m\n\u001b[0m\u001b[1;32m     88\u001b[0m             \u001b[0mtopic_frame\u001b[0m\u001b[0;34m.\u001b[0m\u001b[0mrename\u001b[0m\u001b[0;34m(\u001b[0m\u001b[0mcolumns\u001b[0m\u001b[0;34m=\u001b[0m\u001b[0;34m{\u001b[0m\u001b[0;36m0\u001b[0m\u001b[0;34m:\u001b[0m\u001b[0mstr\u001b[0m\u001b[0;34m(\u001b[0m\u001b[0mcol\u001b[0m\u001b[0;34m)\u001b[0m\u001b[0;34m+\u001b[0m\u001b[0;34m\"_Topic\"\u001b[0m\u001b[0;34m}\u001b[0m\u001b[0;34m,\u001b[0m\u001b[0minplace\u001b[0m\u001b[0;34m=\u001b[0m\u001b[0;32mTrue\u001b[0m\u001b[0;34m)\u001b[0m\u001b[0;34m\u001b[0m\u001b[0;34m\u001b[0m\u001b[0m\n\u001b[1;32m     89\u001b[0m             \u001b[0mprint\u001b[0m\u001b[0;34m(\u001b[0m\u001b[0mtopic_frame\u001b[0m\u001b[0;34m)\u001b[0m\u001b[0;34m\u001b[0m\u001b[0;34m\u001b[0m\u001b[0m\n",
      "\u001b[0;32m~/Environments/development/Protonautoml/engineerings.py\u001b[0m in \u001b[0;36mtopicExtraction\u001b[0;34m(df, validation, lda_model_tfidf)\u001b[0m\n\u001b[1;32m    386\u001b[0m   \u001b[0mstart\u001b[0m \u001b[0;34m=\u001b[0m \u001b[0mtime\u001b[0m\u001b[0;34m.\u001b[0m\u001b[0mtime\u001b[0m\u001b[0;34m(\u001b[0m\u001b[0;34m)\u001b[0m\u001b[0;34m\u001b[0m\u001b[0;34m\u001b[0m\u001b[0m\n\u001b[1;32m    387\u001b[0m   \u001b[0;32mfor\u001b[0m \u001b[0mi\u001b[0m \u001b[0;32min\u001b[0m \u001b[0mrange\u001b[0m\u001b[0;34m(\u001b[0m\u001b[0mlen\u001b[0m\u001b[0;34m(\u001b[0m\u001b[0mbow_corpus\u001b[0m\u001b[0;34m)\u001b[0m\u001b[0;34m)\u001b[0m\u001b[0;34m:\u001b[0m\u001b[0;34m\u001b[0m\u001b[0;34m\u001b[0m\u001b[0m\n\u001b[0;32m--> 388\u001b[0;31m     \u001b[0;32mfor\u001b[0m \u001b[0midx\u001b[0m\u001b[0;34m,\u001b[0m \u001b[0mtopic\u001b[0m \u001b[0;32min\u001b[0m \u001b[0msorted\u001b[0m\u001b[0;34m(\u001b[0m\u001b[0mlda_model_tfidf\u001b[0m\u001b[0;34m[\u001b[0m\u001b[0mbow_corpus\u001b[0m\u001b[0;34m[\u001b[0m\u001b[0mi\u001b[0m\u001b[0;34m]\u001b[0m\u001b[0;34m]\u001b[0m\u001b[0;34m,\u001b[0m \u001b[0mkey\u001b[0m\u001b[0;34m=\u001b[0m \u001b[0;32mlambda\u001b[0m \u001b[0mtup\u001b[0m\u001b[0;34m:\u001b[0m \u001b[0;34m-\u001b[0m\u001b[0;36m1\u001b[0m\u001b[0;34m*\u001b[0m\u001b[0mtup\u001b[0m\u001b[0;34m[\u001b[0m\u001b[0;36m1\u001b[0m\u001b[0;34m]\u001b[0m\u001b[0;34m)\u001b[0m\u001b[0;34m:\u001b[0m\u001b[0;34m\u001b[0m\u001b[0;34m\u001b[0m\u001b[0m\n\u001b[0m\u001b[1;32m    389\u001b[0m       \u001b[0mappend\u001b[0m\u001b[0;34m(\u001b[0m\u001b[0midx\u001b[0m\u001b[0;34m)\u001b[0m\u001b[0;34m\u001b[0m\u001b[0;34m\u001b[0m\u001b[0m\n\u001b[1;32m    390\u001b[0m       \u001b[0;32mbreak\u001b[0m\u001b[0;34m\u001b[0m\u001b[0;34m\u001b[0m\u001b[0m\n",
      "\u001b[0;32m~/opt/anaconda3/envs/proton/lib/python3.6/site-packages/gensim/models/ldamodel.py\u001b[0m in \u001b[0;36m__getitem__\u001b[0;34m(self, bow, eps)\u001b[0m\n\u001b[1;32m   1522\u001b[0m \u001b[0;34m\u001b[0m\u001b[0m\n\u001b[1;32m   1523\u001b[0m         \"\"\"\n\u001b[0;32m-> 1524\u001b[0;31m         \u001b[0;32mreturn\u001b[0m \u001b[0mself\u001b[0m\u001b[0;34m.\u001b[0m\u001b[0mget_document_topics\u001b[0m\u001b[0;34m(\u001b[0m\u001b[0mbow\u001b[0m\u001b[0;34m,\u001b[0m \u001b[0meps\u001b[0m\u001b[0;34m,\u001b[0m \u001b[0mself\u001b[0m\u001b[0;34m.\u001b[0m\u001b[0mminimum_phi_value\u001b[0m\u001b[0;34m,\u001b[0m \u001b[0mself\u001b[0m\u001b[0;34m.\u001b[0m\u001b[0mper_word_topics\u001b[0m\u001b[0;34m)\u001b[0m\u001b[0;34m\u001b[0m\u001b[0;34m\u001b[0m\u001b[0m\n\u001b[0m\u001b[1;32m   1525\u001b[0m \u001b[0;34m\u001b[0m\u001b[0m\n\u001b[1;32m   1526\u001b[0m     \u001b[0;32mdef\u001b[0m \u001b[0msave\u001b[0m\u001b[0;34m(\u001b[0m\u001b[0mself\u001b[0m\u001b[0;34m,\u001b[0m \u001b[0mfname\u001b[0m\u001b[0;34m,\u001b[0m \u001b[0mignore\u001b[0m\u001b[0;34m=\u001b[0m\u001b[0;34m(\u001b[0m\u001b[0;34m'state'\u001b[0m\u001b[0;34m,\u001b[0m \u001b[0;34m'dispatcher'\u001b[0m\u001b[0;34m)\u001b[0m\u001b[0;34m,\u001b[0m \u001b[0mseparately\u001b[0m\u001b[0;34m=\u001b[0m\u001b[0;32mNone\u001b[0m\u001b[0;34m,\u001b[0m \u001b[0;34m*\u001b[0m\u001b[0margs\u001b[0m\u001b[0;34m,\u001b[0m \u001b[0;34m**\u001b[0m\u001b[0mkwargs\u001b[0m\u001b[0;34m)\u001b[0m\u001b[0;34m:\u001b[0m\u001b[0;34m\u001b[0m\u001b[0;34m\u001b[0m\u001b[0m\n",
      "\u001b[0;32m~/opt/anaconda3/envs/proton/lib/python3.6/site-packages/gensim/models/ldamodel.py\u001b[0m in \u001b[0;36mget_document_topics\u001b[0;34m(self, bow, minimum_probability, minimum_phi_value, per_word_topics)\u001b[0m\n\u001b[1;32m   1327\u001b[0m             \u001b[0;32mreturn\u001b[0m \u001b[0mself\u001b[0m\u001b[0;34m.\u001b[0m\u001b[0m_apply\u001b[0m\u001b[0;34m(\u001b[0m\u001b[0mcorpus\u001b[0m\u001b[0;34m,\u001b[0m \u001b[0;34m**\u001b[0m\u001b[0mkwargs\u001b[0m\u001b[0;34m)\u001b[0m\u001b[0;34m\u001b[0m\u001b[0;34m\u001b[0m\u001b[0m\n\u001b[1;32m   1328\u001b[0m \u001b[0;34m\u001b[0m\u001b[0m\n\u001b[0;32m-> 1329\u001b[0;31m         \u001b[0mgamma\u001b[0m\u001b[0;34m,\u001b[0m \u001b[0mphis\u001b[0m \u001b[0;34m=\u001b[0m \u001b[0mself\u001b[0m\u001b[0;34m.\u001b[0m\u001b[0minference\u001b[0m\u001b[0;34m(\u001b[0m\u001b[0;34m[\u001b[0m\u001b[0mbow\u001b[0m\u001b[0;34m]\u001b[0m\u001b[0;34m,\u001b[0m \u001b[0mcollect_sstats\u001b[0m\u001b[0;34m=\u001b[0m\u001b[0mper_word_topics\u001b[0m\u001b[0;34m)\u001b[0m\u001b[0;34m\u001b[0m\u001b[0;34m\u001b[0m\u001b[0m\n\u001b[0m\u001b[1;32m   1330\u001b[0m         \u001b[0mtopic_dist\u001b[0m \u001b[0;34m=\u001b[0m \u001b[0mgamma\u001b[0m\u001b[0;34m[\u001b[0m\u001b[0;36m0\u001b[0m\u001b[0;34m]\u001b[0m \u001b[0;34m/\u001b[0m \u001b[0msum\u001b[0m\u001b[0;34m(\u001b[0m\u001b[0mgamma\u001b[0m\u001b[0;34m[\u001b[0m\u001b[0;36m0\u001b[0m\u001b[0;34m]\u001b[0m\u001b[0;34m)\u001b[0m  \u001b[0;31m# normalize distribution\u001b[0m\u001b[0;34m\u001b[0m\u001b[0;34m\u001b[0m\u001b[0m\n\u001b[1;32m   1331\u001b[0m \u001b[0;34m\u001b[0m\u001b[0m\n",
      "\u001b[0;32m~/opt/anaconda3/envs/proton/lib/python3.6/site-packages/gensim/models/ldamodel.py\u001b[0m in \u001b[0;36minference\u001b[0;34m(self, chunk, collect_sstats)\u001b[0m\n\u001b[1;32m    678\u001b[0m             \u001b[0mElogthetad\u001b[0m \u001b[0;34m=\u001b[0m \u001b[0mElogtheta\u001b[0m\u001b[0;34m[\u001b[0m\u001b[0md\u001b[0m\u001b[0;34m,\u001b[0m \u001b[0;34m:\u001b[0m\u001b[0;34m]\u001b[0m\u001b[0;34m\u001b[0m\u001b[0;34m\u001b[0m\u001b[0m\n\u001b[1;32m    679\u001b[0m             \u001b[0mexpElogthetad\u001b[0m \u001b[0;34m=\u001b[0m \u001b[0mexpElogtheta\u001b[0m\u001b[0;34m[\u001b[0m\u001b[0md\u001b[0m\u001b[0;34m,\u001b[0m \u001b[0;34m:\u001b[0m\u001b[0;34m]\u001b[0m\u001b[0;34m\u001b[0m\u001b[0;34m\u001b[0m\u001b[0m\n\u001b[0;32m--> 680\u001b[0;31m             \u001b[0mexpElogbetad\u001b[0m \u001b[0;34m=\u001b[0m \u001b[0mself\u001b[0m\u001b[0;34m.\u001b[0m\u001b[0mexpElogbeta\u001b[0m\u001b[0;34m[\u001b[0m\u001b[0;34m:\u001b[0m\u001b[0;34m,\u001b[0m \u001b[0mids\u001b[0m\u001b[0;34m]\u001b[0m\u001b[0;34m\u001b[0m\u001b[0;34m\u001b[0m\u001b[0m\n\u001b[0m\u001b[1;32m    681\u001b[0m \u001b[0;34m\u001b[0m\u001b[0m\n\u001b[1;32m    682\u001b[0m             \u001b[0;31m# The optimal phi_{dwk} is proportional to expElogthetad_k * expElogbetad_w.\u001b[0m\u001b[0;34m\u001b[0m\u001b[0;34m\u001b[0m\u001b[0;34m\u001b[0m\u001b[0m\n",
      "\u001b[0;31mIndexError\u001b[0m: index 436 is out of bounds for axis 1 with size 436"
     ]
    }
   ],
   "source": [
    "def main():\n",
    "    # IMPORT MODEL    \n",
    "    model_info = joblib.load('model_info')\n",
    "    \n",
    "    # IMPORT SCORING FILE\n",
    "    dfPath = input('Enter the Scoring File path : ').strip()\n",
    "    df,_ = importFile(dfPath)\n",
    "    df = df.rename(columns = lambda x:re.sub('[^A-Za-z0-9_]+', '', x))\n",
    "    df = dataHandler(df)\n",
    "    print(df.columns)\n",
    "\n",
    "    # Filter DataFrame based on columns\n",
    "    df = getDF(df,model_info)\n",
    "    if not isinstance(df,pd.DataFrame): # If Columns don't match, \n",
    "        print('QUITTING!') # QUIT by printing what columns don't match/are not found\n",
    "        return 0\n",
    "    \n",
    "    # Numeric Engineering of DATA\n",
    "    print('\\n#### Entering Numeric Engineering ####\\n')\n",
    "    df = numeric_engineering(df)\n",
    "    \n",
    "    # SCORE\n",
    "    outputFile = score(df,model_info)    \n",
    "    \n",
    "    print('Done!')\n",
    "    return 0\n",
    "\n",
    "if __name__ == '__main__':\n",
    "    main()"
   ]
  },
  {
   "cell_type": "markdown",
   "metadata": {},
   "source": [
    "## Preview of Predictions"
   ]
  },
  {
   "cell_type": "code",
   "execution_count": 9,
   "metadata": {
    "scrolled": false
   },
   "outputs": [],
   "source": [
    "# joblib.load('model_info')"
   ]
  },
  {
   "cell_type": "code",
   "execution_count": 10,
   "metadata": {
    "scrolled": false
   },
   "outputs": [
    {
     "output_type": "execute_result",
     "data": {
      "text/plain": [
       "    PassengerId  Predicted Values  Class 0 Probabilities  \\\n",
       "0             1                 0               0.827047   \n",
       "1             2                 1               0.157252   \n",
       "2             3                 1               0.351563   \n",
       "3             4                 1               0.097955   \n",
       "4             5                 0               0.943659   \n",
       "5             6                 0               0.821920   \n",
       "6             7                 0               0.529374   \n",
       "7             8                 0               0.852867   \n",
       "8             9                 1               0.307263   \n",
       "9            10                 1               0.142135   \n",
       "10           11                 1               0.359757   \n",
       "11           12                 1               0.167566   \n",
       "12           13                 0               0.837518   \n",
       "13           14                 0               0.929544   \n",
       "14           15                 1               0.199622   \n",
       "15           16                 1               0.167566   \n",
       "16           17                 0               0.826861   \n",
       "17           18                 0               0.703661   \n",
       "18           19                 0               0.531470   \n",
       "19           20                 1               0.135132   \n",
       "\n",
       "    Class 1 Probabilities  \n",
       "0                0.172953  \n",
       "1                0.842748  \n",
       "2                0.648437  \n",
       "3                0.902045  \n",
       "4                0.056341  \n",
       "5                0.178080  \n",
       "6                0.470626  \n",
       "7                0.147133  \n",
       "8                0.692737  \n",
       "9                0.857865  \n",
       "10               0.640243  \n",
       "11               0.832434  \n",
       "12               0.162482  \n",
       "13               0.070456  \n",
       "14               0.800378  \n",
       "15               0.832434  \n",
       "16               0.173139  \n",
       "17               0.296339  \n",
       "18               0.468530  \n",
       "19               0.864868  "
      ],
      "text/html": "<div>\n<style scoped>\n    .dataframe tbody tr th:only-of-type {\n        vertical-align: middle;\n    }\n\n    .dataframe tbody tr th {\n        vertical-align: top;\n    }\n\n    .dataframe thead th {\n        text-align: right;\n    }\n</style>\n<table border=\"1\" class=\"dataframe\">\n  <thead>\n    <tr style=\"text-align: right;\">\n      <th></th>\n      <th>PassengerId</th>\n      <th>Predicted Values</th>\n      <th>Class 0 Probabilities</th>\n      <th>Class 1 Probabilities</th>\n    </tr>\n  </thead>\n  <tbody>\n    <tr>\n      <th>0</th>\n      <td>1</td>\n      <td>0</td>\n      <td>0.827047</td>\n      <td>0.172953</td>\n    </tr>\n    <tr>\n      <th>1</th>\n      <td>2</td>\n      <td>1</td>\n      <td>0.157252</td>\n      <td>0.842748</td>\n    </tr>\n    <tr>\n      <th>2</th>\n      <td>3</td>\n      <td>1</td>\n      <td>0.351563</td>\n      <td>0.648437</td>\n    </tr>\n    <tr>\n      <th>3</th>\n      <td>4</td>\n      <td>1</td>\n      <td>0.097955</td>\n      <td>0.902045</td>\n    </tr>\n    <tr>\n      <th>4</th>\n      <td>5</td>\n      <td>0</td>\n      <td>0.943659</td>\n      <td>0.056341</td>\n    </tr>\n    <tr>\n      <th>5</th>\n      <td>6</td>\n      <td>0</td>\n      <td>0.821920</td>\n      <td>0.178080</td>\n    </tr>\n    <tr>\n      <th>6</th>\n      <td>7</td>\n      <td>0</td>\n      <td>0.529374</td>\n      <td>0.470626</td>\n    </tr>\n    <tr>\n      <th>7</th>\n      <td>8</td>\n      <td>0</td>\n      <td>0.852867</td>\n      <td>0.147133</td>\n    </tr>\n    <tr>\n      <th>8</th>\n      <td>9</td>\n      <td>1</td>\n      <td>0.307263</td>\n      <td>0.692737</td>\n    </tr>\n    <tr>\n      <th>9</th>\n      <td>10</td>\n      <td>1</td>\n      <td>0.142135</td>\n      <td>0.857865</td>\n    </tr>\n    <tr>\n      <th>10</th>\n      <td>11</td>\n      <td>1</td>\n      <td>0.359757</td>\n      <td>0.640243</td>\n    </tr>\n    <tr>\n      <th>11</th>\n      <td>12</td>\n      <td>1</td>\n      <td>0.167566</td>\n      <td>0.832434</td>\n    </tr>\n    <tr>\n      <th>12</th>\n      <td>13</td>\n      <td>0</td>\n      <td>0.837518</td>\n      <td>0.162482</td>\n    </tr>\n    <tr>\n      <th>13</th>\n      <td>14</td>\n      <td>0</td>\n      <td>0.929544</td>\n      <td>0.070456</td>\n    </tr>\n    <tr>\n      <th>14</th>\n      <td>15</td>\n      <td>1</td>\n      <td>0.199622</td>\n      <td>0.800378</td>\n    </tr>\n    <tr>\n      <th>15</th>\n      <td>16</td>\n      <td>1</td>\n      <td>0.167566</td>\n      <td>0.832434</td>\n    </tr>\n    <tr>\n      <th>16</th>\n      <td>17</td>\n      <td>0</td>\n      <td>0.826861</td>\n      <td>0.173139</td>\n    </tr>\n    <tr>\n      <th>17</th>\n      <td>18</td>\n      <td>0</td>\n      <td>0.703661</td>\n      <td>0.296339</td>\n    </tr>\n    <tr>\n      <th>18</th>\n      <td>19</td>\n      <td>0</td>\n      <td>0.531470</td>\n      <td>0.468530</td>\n    </tr>\n    <tr>\n      <th>19</th>\n      <td>20</td>\n      <td>1</td>\n      <td>0.135132</td>\n      <td>0.864868</td>\n    </tr>\n  </tbody>\n</table>\n</div>"
     },
     "metadata": {},
     "execution_count": 10
    }
   ],
   "source": [
    "pd.read_csv('score.csv').head(20)"
   ]
  }
 ],
 "metadata": {
  "kernelspec": {
   "display_name": "Python 3",
   "language": "python",
   "name": "python3"
  },
  "language_info": {
   "codemirror_mode": {
    "name": "ipython",
    "version": 3
   },
   "file_extension": ".py",
   "mimetype": "text/x-python",
   "name": "python",
   "nbconvert_exporter": "python",
   "pygments_lexer": "ipython3",
   "version": "3.6.10-final"
  }
 },
 "nbformat": 4,
 "nbformat_minor": 4
}