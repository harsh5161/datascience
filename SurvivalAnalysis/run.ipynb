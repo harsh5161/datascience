{
 "cells": [
  {
   "cell_type": "code",
   "execution_count": null,
   "metadata": {},
   "outputs": [],
   "source": [
    "# **Intructions** #\n",
    "# If running in Google Colab, we only need to install PySurvival and Lifelies.\n",
    "\n",
    "# Step-1 : Upload this notebook on Google colab\n",
    "# Step-2: Upload all the other *.py files and turnover.csv temporarily at the start of the runtime runtime \n",
    "# stag is the time_duration column and event is the events column"
   ]
  },
  {
   "cell_type": "code",
   "execution_count": null,
   "metadata": {},
   "outputs": [],
   "source": [
    "# !pip install pysurvival\n",
    "# !pip install lifelines\n",
    "\n",
    "\n",
    "# !pip install matplotlib\n",
    "# !pip install numpy\n",
    "# !pip install pandas\n",
    "# !pip install tqdm"
   ]
  },
  {
   "cell_type": "markdown",
   "metadata": {},
   "source": [
    "**Dataset Instructions**\n",
    "\n",
    "1. **turnover.csv** <br>\n",
    "    1. Should be used as Right/Uncensored data<br>\n",
    "    2. Can be used as Left censored data (Just for practice)<br>\n",
    "    3. Duration column is \"stag\"<br>\n",
    "    4. Event target column in \"event\"<br>\n",
    "    5. No ID column present<br>\n",
    "    6. Categorical columns are - industry, profession, traffic, gender, head_gender, coach, greywage, way<br>\n",
    "<br>\n",
    "2. **diabetes.csv** <br>\n",
    "    1. Interval censored data<br>\n",
    "    2. Lower bound is \"left\"<br>\n",
    "    3. Upper bound is \"right\"<br>\n",
    "    4. Event target column is \"ev\"<br>\n",
    "    5. ID column is \"Unnamed: 0\"<br>\n",
    "    6. Categorical column is \"gender\"<br>\n",
    "<br>\n",
    "3. **dd_data.csv** <br>\n",
    "    1. Should be used as Right/Uncensored data<br>\n",
    "    2. Can be used as Left censored data (Just for practice)<br>\n",
    "    3. Duration column is \"duration\"<br>\n",
    "    4. Event target column is \"observed\"<br>\n",
    "    5. Columns to drop - leaderspellreg, ehead, Name, start_year<br>\n",
    "    6. Categorical columns - ctryname, un_region_name, un_continent_name, regime, democracy<br>\n",
    "<br>\n",
    "4. **senator.csv** <br>\n",
    "    1. No ID columns<br>\n",
    "    2. Should be used as Right/Uncensored data<br>\n",
    "    3. Can be used as Left censored data (Just for practice)<br>\n",
    "    4. Categorical columns - Political Affiliation at Appointment, Province / Territory, reason<br>\n",
    "    5. Duration columns-<br>\n",
    "        1. If \"diff_days\" is used as duration column<br>\n",
    "            1. Columns to drop - Term (yyyy.mm.dd), Appointed on the advice of, Name, start_year, end_year<br>\n",
    "        2. If \"start_year\" and \"end_year\" are used as lower and upper bound for duration<br>\n",
    "            2. Columns to drop - Term (yyyy.mm.dd), Appointed on the advice of, Name, diff_days<br>\n",
    "<br>\n",
    "5. **train.csv**<br>\n",
    "    1. ID column is \"ID\"<br>\n",
    "    2. Categorical column - Aged, Married, sex, TotalDependents, SettlementProcess, FilmSubscription, MobileService, 4GService, TechnicalAssistance, CyberProtection, HardwareSupport<br>\n",
    "    3. Duration column is \"ServiceSpan\"<br>\n",
    "    4. Event target column is \"CustomerAttrition\"<br>\n",
    "    5. Should be used as Right/Uncensored data<br>\n",
    "    6. Can be used as Left censored data (Just for practice)<br>"
   ]
  },
  {
   "cell_type": "code",
   "execution_count": null,
   "metadata": {},
   "outputs": [],
   "source": [
    "from backbone import *\n",
    "import numpy as np\n",
    "import matplotlib.pyplot as plt\n",
    "import matplotlib as mpl\n",
    "import time\n",
    "\n",
    "pd.set_option('display.max_columns', None)\n",
    "\n",
    "seed = 42\n",
    "# tf.random.set_seed(seed)\n",
    "np.random.seed(seed)\n",
    "plt.style.use('bmh')\n",
    "mpl.rcParams['axes.labelsize'] = 14\n",
    "mpl.rcParams['xtick.labelsize'] = 12\n",
    "mpl.rcParams['ytick.labelsize'] = 12\n",
    "mpl.rcParams['text.color'] = 'k'\n",
    "# print(tf.__version__)\n",
    "\n",
    "\n",
    "start = time.time()\n",
    "complete = INIT()\n",
    "if complete is None:\n",
    "    print(\"Process Failed\")\n",
    "else:\n",
    "    print(f\"Process Success : Time Taken {time.time()-start}\")"
   ]
  }
 ],
 "metadata": {
  "kernelspec": {
   "display_name": "Python 3",
   "language": "python",
   "name": "python3"
  },
  "language_info": {
   "codemirror_mode": {
    "name": "ipython",
    "version": 3
   },
   "file_extension": ".py",
   "mimetype": "text/x-python",
   "name": "python",
   "nbconvert_exporter": "python",
   "pygments_lexer": "ipython3",
   "version": "3.8.5"
  }
 },
 "nbformat": 4,
 "nbformat_minor": 4
}
