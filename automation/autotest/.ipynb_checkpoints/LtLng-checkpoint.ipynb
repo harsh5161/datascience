{
 "cells": [
  {
   "cell_type": "code",
   "execution_count": null,
   "metadata": {},
   "outputs": [],
   "source": [
    "# Identification of Latitude and Longitude Columns\n",
    "import pandas as pd\n",
    "import numpy as np"
   ]
  },
  {
   "cell_type": "code",
   "execution_count": null,
   "metadata": {},
   "outputs": [],
   "source": [
    "lat_cols = [] # Latitude alone\n",
    "long_cols = [] # Longitude alone\n",
    "\n",
    "lat_long_cols = [] # Latitude and Longitude in the same column with separators like, ,/; ,and enclosed in symbols like []/{}/()\n",
    "\n",
    "for col in df.columns:\n",
    "    if 'latitude' in col.lower() and 'longitude' not in col.lower():\n",
    "        lat_cols.append(col)\n",
    "    elif 'longitude' in col.lower() and 'latitude' not in col.lower():\n",
    "        long_cols.append(col)\n",
    "    elif 'latitude' in col.lower() and 'longitude' in col.lower():\n",
    "        lat_long_cols.append(col)"
   ]
  },
  {
   "cell_type": "code",
   "execution_count": null,
   "metadata": {},
   "outputs": [],
   "source": [
    "if len(lat_cols)!=len(long_cols):\n",
    "    print('Lat Long Engineering can\\'t be run because')\n",
    "    print('we have {} latitude columns and {} longitude columns'.format(len(lat_cols),len(long_cols)))\n",
    "else:\n",
    "#     using Itertools, we iterate over each latitutde and logitude column found, and apply latlong engg\n"
   ]
  }
 ],
 "metadata": {
  "kernelspec": {
   "display_name": "Python 3",
   "language": "python",
   "name": "python3"
  },
  "language_info": {
   "codemirror_mode": {
    "name": "ipython",
    "version": 3
   },
   "file_extension": ".py",
   "mimetype": "text/x-python",
   "name": "python",
   "nbconvert_exporter": "python",
   "pygments_lexer": "ipython3",
   "version": "3.8.5"
  }
 },
 "nbformat": 4,
 "nbformat_minor": 4
}
