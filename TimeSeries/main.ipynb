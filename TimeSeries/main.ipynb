{
 "cells": [
  {
   "cell_type": "markdown",
   "metadata": {},
   "source": [
    "## Dependencies"
   ]
  },
  {
   "cell_type": "code",
   "execution_count": 1,
   "metadata": {
    "scrolled": true
   },
   "outputs": [],
   "source": [
    "# !pip install fbprophet\n",
    "# !pip install holidays\n",
    "# !pip install pmdarima\n",
    "# !pip install git+https://github.com/ourownstory/neural_prophet.git"
   ]
  },
  {
   "cell_type": "markdown",
   "metadata": {},
   "source": [
    "## Imports"
   ]
  },
  {
   "cell_type": "code",
   "execution_count": 1,
   "metadata": {},
   "outputs": [],
   "source": [
    "# Modular Imports\n",
    "import numpy as np\n",
    "import pandas as pd\n",
    "import warnings\n",
    "warnings.simplefilter(action='ignore', category=FutureWarning)\n",
    "from userInputs import importFile,getInfo\n",
    "from engineerings import getDateColumns,time_engineering,train_test_split,interpolateTarget\n",
    "from plots import basicPlot,decompositionPlot,fbprophet_plots,neural_prophet_plots\n",
    "from init import INIT\n",
    "import joblib\n",
    "from pmdarima import auto_arima\n",
    "from pmdarima.metrics import smape\n",
    "from sklearn.metrics import mean_squared_error,mean_absolute_error\n",
    "from sklearn.ensemble import VotingRegressor,StackingRegressor\n",
    "import matplotlib.pyplot as plt\n",
    "plt.style.use('Solarize_Light2')\n",
    "from fbprophet import Prophet\n",
    "from fbprophet.diagnostics import cross_validation as fcv\n",
    "from fbprophet.diagnostics import performance_metrics\n",
    "from neuralprophet import NeuralProphet\n",
    "import holidays\n",
    "import itertools\n",
    "import pdb\n",
    "from arch import arch_model"
   ]
  },
  {
   "cell_type": "markdown",
   "metadata": {},
   "source": [
    "## Main Function"
   ]
  },
  {
   "cell_type": "code",
   "execution_count": 64,
   "metadata": {
    "scrolled": false
   },
   "outputs": [
    {
     "name": "stdout",
     "output_type": "stream",
     "text": [
      "This is Time Series Folder and All functions and files will be contained here\n",
      "#### For now use only CSV files ####\n",
      "Enter filename for TimeSeries : inf.csv\n",
      "#### RUNNING WAIT ####\n",
      "extension is csv\n",
      "We have a csv file\n",
      "This file has 15 columns and 100 rows\n",
      "The columns found are :\n",
      "Index(['Date', 'Symbol', 'Series', 'Prev_Close', 'Open', 'High', 'Low', 'Last',\n",
      "       'Close', 'VWAP', 'Volume', 'Turnover', 'Trades', 'Deliverable_Volume',\n",
      "       '%Deliverble'],\n",
      "      dtype='object')\n",
      "Enter the target column : Turnover\n",
      "\n",
      "The date columns found are :\n",
      "['Date']\n",
      "Enter the primary date column : Date\n",
      "Select a forecast period: \n",
      "1. Daily\n",
      "2. Weekly\n",
      "3. Monthly\n",
      "4. Quarterly\n",
      "5. Semi-Annual\n",
      "6. Annual\n",
      "Enter the number: 6\n",
      "Enter the number of periods of forecast: 1\n",
      "INFO COLLECTED! FORECAST PERIOD NOT APPLIED IN THE CODE!\n",
      "INFO SAVED!\n",
      "\n",
      "INIT STARTED!\n",
      "IMPORTING NECESSARY FILES\n",
      "#### RUNNING WAIT ####\n",
      "extension is csv\n",
      "We have a csv file\n",
      "This file has 15 columns and 248 rows\n",
      "(248, 15)\n",
      "\n",
      "#### Preparing Data For Univariate Analysis! ####\n",
      "\n",
      "(248, 2)\n",
      "\t\t stripping spaces, symbols, and lower casing all entries\n",
      "done ...\n",
      "\t\t Replacing empty and invalid strings\n",
      "done ...\n",
      "\t\t Replacing commas if present in Currencies\n",
      "done ...\n",
      "\t\t Finding Numeric Columns\n",
      "done ...\n",
      "\t\t   Date is of type datetime64[ns]\n",
      "\t\t   Turnover is of type float64\n",
      "Numeric Engineering time taken: 0.00801992416381836\n",
      "\n",
      "\n",
      "\n",
      "Printing DataFrame head!\n",
      "\n",
      "        Date      Turnover\n",
      "0 2015-01-01  9.870306e+13\n",
      "1 2015-01-02  3.394669e+14\n",
      "2 2015-01-05  4.979911e+14\n",
      "3 2015-01-06  4.724458e+14\n",
      "4 2015-01-07  3.557162e+14\n",
      "\n",
      "5.0% done on frontEndProgessBar\n",
      "\n",
      "\n",
      "#### ENTERING TIME ENGINEERING ####\n",
      "\n",
      "UNPACKING PROPS\n",
      "\n",
      "Sorting DataFrame according to Primary Date Column\n",
      "\n",
      "Dropping rows with empty Date\n",
      "\n",
      "Creating exogenous Date Variables from Primary Date Column\n",
      "Obtaining Year,Quarter,Month,Week,Day of Week,Day,Hour,Minute,Seconds,Weekend or not\n",
      "Creating English levels for Visualization purposes!\n",
      "\n",
      "Creating a dictionary of holidays for every year present in the data\n",
      "\n",
      "Removing columns with only one level\n",
      "Column 'Year' will be dropped since it has 1 level\n",
      "Column 'Hour' will be dropped since it has 1 level\n",
      "Column 'Minute' will be dropped since it has 1 level\n",
      "Column 'Seconds' will be dropped since it has 1 level\n",
      "Column 'BusinessHrs_or_not' will be dropped since it has 1 level\n",
      "\n",
      "Printing DataFrame Head\n",
      "\n",
      "                 Date      Turnover  quarter  month  Week  day of Week  Day  \\\n",
      "Date                                                                          \n",
      "2015-01-01 2015-01-01  9.870306e+13        1      1     1            3    1   \n",
      "2015-01-02 2015-01-02  3.394669e+14        1      1     1            4    2   \n",
      "2015-01-05 2015-01-05  4.979911e+14        1      1     2            0    5   \n",
      "2015-01-06 2015-01-06  4.724458e+14        1      1     2            1    6   \n",
      "2015-01-07 2015-01-07  3.557162e+14        1      1     2            2    7   \n",
      "\n",
      "            Weekend_or_not Quarter    Month Day of Week  Near Holiday  \n",
      "Date                                                                   \n",
      "2015-01-01               0      Q1  January    Thursday             1  \n",
      "2015-01-02               0      Q1  January      Friday             1  \n",
      "2015-01-05               1      Q1  January      Monday             1  \n",
      "2015-01-06               1      Q1  January     Tuesday             1  \n",
      "2015-01-07               0      Q1  January   Wednesday             0  \n",
      "\n",
      "#### PACKING/UPDATING and RETURNING PROPS ####\n",
      "\n",
      "#### TIME ENGINEERING DONE ####\n",
      "\n",
      "10.0% done on frontEndProgessBar\n",
      "\n",
      "Plotting Basic Target without any changes!\n",
      "\n",
      "20.0% done on frontEndProgessBar\n",
      "\n",
      "Applying Linear Interpolation to the Training Target Column\n",
      "\n",
      "Applying Time Series Decomposition Plot\n",
      "\n",
      "30.0% done on frontEndProgessBar\n"
     ]
    },
    {
     "ename": "ValueError",
     "evalue": "You must specify a period or x must be a pandas object with a DatetimeIndex with a freq not set to None",
     "output_type": "error",
     "traceback": [
      "\u001b[1;31m---------------------------------------------------------------------------\u001b[0m",
      "\u001b[1;31mValueError\u001b[0m                                Traceback (most recent call last)",
      "\u001b[1;32m<ipython-input-64-233194dbf88c>\u001b[0m in \u001b[0;36m<module>\u001b[1;34m\u001b[0m\n\u001b[0;32m    209\u001b[0m \u001b[1;33m\u001b[0m\u001b[0m\n\u001b[0;32m    210\u001b[0m \u001b[1;32mif\u001b[0m \u001b[0m__name__\u001b[0m \u001b[1;33m==\u001b[0m \u001b[1;34m'__main__'\u001b[0m\u001b[1;33m:\u001b[0m\u001b[1;33m\u001b[0m\u001b[1;33m\u001b[0m\u001b[0m\n\u001b[1;32m--> 211\u001b[1;33m     \u001b[0mreturnValue\u001b[0m\u001b[1;33m,\u001b[0m\u001b[0mnumberOfErrors\u001b[0m \u001b[1;33m=\u001b[0m \u001b[0mmain\u001b[0m\u001b[1;33m(\u001b[0m\u001b[1;33m)\u001b[0m\u001b[1;33m\u001b[0m\u001b[1;33m\u001b[0m\u001b[0m\n\u001b[0m\u001b[0;32m    212\u001b[0m     \u001b[0mprint\u001b[0m\u001b[1;33m(\u001b[0m\u001b[1;34m'\\n#### Code run successfully ####\\n'\u001b[0m\u001b[1;33m)\u001b[0m\u001b[1;33m\u001b[0m\u001b[1;33m\u001b[0m\u001b[0m\n",
      "\u001b[1;32m<ipython-input-64-233194dbf88c>\u001b[0m in \u001b[0;36mmain\u001b[1;34m(test, props)\u001b[0m\n\u001b[0;32m     51\u001b[0m     \u001b[0mprint\u001b[0m\u001b[1;33m(\u001b[0m\u001b[1;34m'\\n{}% done on frontEndProgessBar'\u001b[0m\u001b[1;33m.\u001b[0m\u001b[0mformat\u001b[0m\u001b[1;33m(\u001b[0m\u001b[0mfrontEndProgressBar\u001b[0m\u001b[1;33m*\u001b[0m\u001b[1;36m100\u001b[0m\u001b[1;33m)\u001b[0m\u001b[1;33m)\u001b[0m\u001b[1;33m\u001b[0m\u001b[1;33m\u001b[0m\u001b[0m\n\u001b[0;32m     52\u001b[0m \u001b[1;33m\u001b[0m\u001b[0m\n\u001b[1;32m---> 53\u001b[1;33m     \u001b[0mdecompositionPlot\u001b[0m\u001b[1;33m(\u001b[0m\u001b[0mprops\u001b[0m\u001b[1;33m)\u001b[0m\u001b[1;33m\u001b[0m\u001b[1;33m\u001b[0m\u001b[0m\n\u001b[0m\u001b[0;32m     54\u001b[0m     \u001b[0mfrontEndProgressBar\u001b[0m \u001b[1;33m=\u001b[0m \u001b[1;36m0.40\u001b[0m\u001b[1;33m\u001b[0m\u001b[1;33m\u001b[0m\u001b[0m\n\u001b[0;32m     55\u001b[0m     \u001b[0mprint\u001b[0m\u001b[1;33m(\u001b[0m\u001b[1;34m'\\n{}% done on frontEndProgessBar'\u001b[0m\u001b[1;33m.\u001b[0m\u001b[0mformat\u001b[0m\u001b[1;33m(\u001b[0m\u001b[0mfrontEndProgressBar\u001b[0m\u001b[1;33m*\u001b[0m\u001b[1;36m100\u001b[0m\u001b[1;33m)\u001b[0m\u001b[1;33m)\u001b[0m\u001b[1;33m\u001b[0m\u001b[1;33m\u001b[0m\u001b[0m\n",
      "\u001b[1;32m~\\Documents\\GitHub\\protonautoml_webapp_v1\\TimeSeries\\plots.py\u001b[0m in \u001b[0;36mdecompositionPlot\u001b[1;34m(props)\u001b[0m\n\u001b[0;32m     15\u001b[0m     \u001b[0mdf\u001b[0m\u001b[1;33m.\u001b[0m\u001b[0mindex\u001b[0m \u001b[1;33m=\u001b[0m \u001b[0mdf\u001b[0m\u001b[1;33m[\u001b[0m\u001b[0mprops\u001b[0m\u001b[1;33m[\u001b[0m\u001b[1;34m'info'\u001b[0m\u001b[1;33m]\u001b[0m\u001b[1;33m[\u001b[0m\u001b[1;34m'PrimaryDate'\u001b[0m\u001b[1;33m]\u001b[0m\u001b[1;33m]\u001b[0m\u001b[1;33m\u001b[0m\u001b[1;33m\u001b[0m\u001b[0m\n\u001b[0;32m     16\u001b[0m     \u001b[0mtarget\u001b[0m \u001b[1;33m=\u001b[0m \u001b[0mprops\u001b[0m\u001b[1;33m[\u001b[0m\u001b[1;34m'info'\u001b[0m\u001b[1;33m]\u001b[0m\u001b[1;33m[\u001b[0m\u001b[1;34m'Target'\u001b[0m\u001b[1;33m]\u001b[0m\u001b[1;33m\u001b[0m\u001b[1;33m\u001b[0m\u001b[0m\n\u001b[1;32m---> 17\u001b[1;33m     \u001b[0mresultPlot\u001b[0m \u001b[1;33m=\u001b[0m \u001b[0mseasonal_decompose\u001b[0m\u001b[1;33m(\u001b[0m\u001b[0mdf\u001b[0m\u001b[1;33m[\u001b[0m\u001b[0mtarget\u001b[0m\u001b[1;33m]\u001b[0m\u001b[1;33m,\u001b[0m\u001b[0mmodel\u001b[0m\u001b[1;33m=\u001b[0m\u001b[1;34m'multiplicative'\u001b[0m\u001b[1;33m)\u001b[0m\u001b[1;33m\u001b[0m\u001b[1;33m\u001b[0m\u001b[0m\n\u001b[0m\u001b[0;32m     18\u001b[0m     \u001b[0mresultPlot\u001b[0m\u001b[1;33m.\u001b[0m\u001b[0mplot\u001b[0m\u001b[1;33m(\u001b[0m\u001b[1;33m)\u001b[0m\u001b[1;33m\u001b[0m\u001b[1;33m\u001b[0m\u001b[0m\n\u001b[0;32m     19\u001b[0m     \u001b[0mplt\u001b[0m\u001b[1;33m.\u001b[0m\u001b[0mshow\u001b[0m\u001b[1;33m(\u001b[0m\u001b[1;33m)\u001b[0m\u001b[1;33m\u001b[0m\u001b[1;33m\u001b[0m\u001b[0m\n",
      "\u001b[1;32m~\\anaconda3\\envs\\myenv\\lib\\site-packages\\pandas\\util\\_decorators.py\u001b[0m in \u001b[0;36mwrapper\u001b[1;34m(*args, **kwargs)\u001b[0m\n\u001b[0;32m    197\u001b[0m                 \u001b[1;32melse\u001b[0m\u001b[1;33m:\u001b[0m\u001b[1;33m\u001b[0m\u001b[1;33m\u001b[0m\u001b[0m\n\u001b[0;32m    198\u001b[0m                     \u001b[0mkwargs\u001b[0m\u001b[1;33m[\u001b[0m\u001b[0mnew_arg_name\u001b[0m\u001b[1;33m]\u001b[0m \u001b[1;33m=\u001b[0m \u001b[0mnew_arg_value\u001b[0m\u001b[1;33m\u001b[0m\u001b[1;33m\u001b[0m\u001b[0m\n\u001b[1;32m--> 199\u001b[1;33m             \u001b[1;32mreturn\u001b[0m \u001b[0mfunc\u001b[0m\u001b[1;33m(\u001b[0m\u001b[1;33m*\u001b[0m\u001b[0margs\u001b[0m\u001b[1;33m,\u001b[0m \u001b[1;33m**\u001b[0m\u001b[0mkwargs\u001b[0m\u001b[1;33m)\u001b[0m\u001b[1;33m\u001b[0m\u001b[1;33m\u001b[0m\u001b[0m\n\u001b[0m\u001b[0;32m    200\u001b[0m \u001b[1;33m\u001b[0m\u001b[0m\n\u001b[0;32m    201\u001b[0m         \u001b[1;32mreturn\u001b[0m \u001b[0mcast\u001b[0m\u001b[1;33m(\u001b[0m\u001b[0mF\u001b[0m\u001b[1;33m,\u001b[0m \u001b[0mwrapper\u001b[0m\u001b[1;33m)\u001b[0m\u001b[1;33m\u001b[0m\u001b[1;33m\u001b[0m\u001b[0m\n",
      "\u001b[1;32m~\\anaconda3\\envs\\myenv\\lib\\site-packages\\statsmodels\\tsa\\seasonal.py\u001b[0m in \u001b[0;36mseasonal_decompose\u001b[1;34m(x, model, filt, period, two_sided, extrapolate_trend)\u001b[0m\n\u001b[0;32m    140\u001b[0m             \u001b[0mperiod\u001b[0m \u001b[1;33m=\u001b[0m \u001b[0mpfreq\u001b[0m\u001b[1;33m\u001b[0m\u001b[1;33m\u001b[0m\u001b[0m\n\u001b[0;32m    141\u001b[0m         \u001b[1;32melse\u001b[0m\u001b[1;33m:\u001b[0m\u001b[1;33m\u001b[0m\u001b[1;33m\u001b[0m\u001b[0m\n\u001b[1;32m--> 142\u001b[1;33m             raise ValueError(\"You must specify a period or x must be a \"\n\u001b[0m\u001b[0;32m    143\u001b[0m                              \u001b[1;34m\"pandas object with a DatetimeIndex with \"\u001b[0m\u001b[1;33m\u001b[0m\u001b[1;33m\u001b[0m\u001b[0m\n\u001b[0;32m    144\u001b[0m                              \"a freq not set to None\")\n",
      "\u001b[1;31mValueError\u001b[0m: You must specify a period or x must be a pandas object with a DatetimeIndex with a freq not set to None"
     ]
    },
    {
     "data": {
      "image/png": "[encoded data removed]",
      "text/plain": [
       "<Figure size 432x288 with 1 Axes>"
      ]
     },
     "metadata": {},
     "output_type": "display_data"
    }
   ],
   "source": [
    "# def main(test=False,props=None):\n",
    "#     print('This is Time Series Folder and All functions and files will be contained here')\n",
    "#     print('#### For now use only CSV files ####')\n",
    "#     ## Importing File ## We need to store CSV files in test folder in TimeSeries ##\n",
    "#     if not test:\n",
    "#         # For single file manual testing\n",
    "#         path = input('Enter filename for TimeSeries : ').strip()\n",
    "#         if path == '':\n",
    "#             print('\\nNo File Selected, QUITTING!')\n",
    "#             return 1,0\n",
    "#         df,_ = importFile(path,nrows=100)\n",
    "#     else:\n",
    "#         # For Automated Testing\n",
    "#         df,_ = importFile(props[path],nrows=100)\n",
    "#     # Stripping trailing and leading spaces and replacing spaces in between with _\n",
    "#     df.columns = [x.strip().replace(' ','_') for x in df.columns]\n",
    "#     datecols,_ = getDateColumns(df.select_dtypes('object'))\n",
    "#     if len(datecols) == 0:\n",
    "#         print('No datecolumns found, QUITTING!')\n",
    "#         return None,None\n",
    "\n",
    "#     info = getInfo(df.columns,datecols) # Get Target and Primary Date Column\n",
    "    \n",
    "#     print('INFO COLLECTED! FORECAST PERIOD NOT APPLIED IN THE CODE!')\n",
    "\n",
    "#     if not info:\n",
    "#         print('QUITTING!')\n",
    "#         return None,None\n",
    "\n",
    "#     info['DateColumns'] = datecols\n",
    "#     joblib.dump(info,'info');print('INFO SAVED!')\n",
    "\n",
    "#     # Reimporting complete data, slicing date and target columns,\n",
    "#     props = INIT(path,info)\n",
    "#     frontEndProgressBar = 0.05\n",
    "#     print('\\n{}% done on frontEndProgessBar\\n'.format(frontEndProgressBar*100))\n",
    "\n",
    "#     props = time_engineering(props)\n",
    "#     if props == dict():\n",
    "#         print('QUITTING!');return None,None\n",
    "#     frontEndProgressBar = 0.10\n",
    "#     print('\\n{}% done on frontEndProgessBar'.format(frontEndProgressBar*100))\n",
    "\n",
    "#     basicPlot(props)\n",
    "#     frontEndProgressBar = 0.20\n",
    "#     print('\\n{}% done on frontEndProgessBar'.format(frontEndProgressBar*100))\n",
    "    \n",
    "#     print('\\nApplying Linear Interpolation to the Training Target Column')    \n",
    "#     props = interpolateTarget(props)\n",
    "#     frontEndProgressBar = 0.30\n",
    "#     print('\\n{}% done on frontEndProgessBar'.format(frontEndProgressBar*100))\n",
    "    \n",
    "#     decompositionPlot(props)\n",
    "#     frontEndProgressBar = 0.40\n",
    "#     print('\\n{}% done on frontEndProgessBar'.format(frontEndProgressBar*100))\n",
    "\n",
    "#     props['Margin'] = int(len(props['df'])*0.8)\n",
    "#     X_train,y_train,X_test,y_test = train_test_split(props)\n",
    "#     print('\\nTrain_Test_Split (FIT SAMPLE / HOLD_OUT SAMPLE SPLIT DONE!)')\n",
    "    \n",
    "# # =============================================================================\n",
    "# #     print('\\nPower Transforming Exogenous Features!')\n",
    "# #     PT = PowerTransformer()\n",
    "# #     col_names = X_train.columns\n",
    "# #     X_train = pd.DataFrame(PT.fit_transform(X_train),columns=col_names)\n",
    "# #     X_test = pd.DataFrame(PT.fit_transform(X_test),columns=col_names)\n",
    "# # =============================================================================\n",
    "    \n",
    "#     print('\\nPreparing Holiday list and DataFrame with -5 and 5 window')\n",
    "#     us_hols = holidays.UnitedStates(years=props['df'].index.year.to_list())\n",
    "#     us_hols_df = pd.DataFrame(us_hols.items(),columns=['ds','holiday'])\n",
    "#     us_hols_df['lower_window'] = -5\n",
    "#     us_hols_df['upper_window'] = 5\n",
    "    \n",
    "#     MODEL_COMPARISON = pd.DataFrame()\n",
    "#     mc_cols_index = 0\n",
    "    \n",
    "# # =============================================================================\n",
    "# #     AUTO ARIMA\n",
    "# # =============================================================================\n",
    "\n",
    "# # =============================================================================\n",
    "#     print('\\n#### FITTING AUTO-ARIMA MODEL #### RUNNING WAIT ####')\n",
    "\n",
    "#     AutoArimaModel = pm.auto_arima(train,n_fits=15,test='adf',method='bfgs',exogenous=X_train)\n",
    "#     AutoArimaForecasts = pd.Series(AutoArimaModel.predict(len(X_test),exogenous=X_test),index=y_test.index)\n",
    "    \n",
    "# #     AutoArimaModel = auto_arima(y_train,seasonal=True,suppress_warnings=True)\n",
    "# #     AutoArimaForecasts = pd.Series(AutoArimaModel.predict(len(X_test)),index=y_test.index)\n",
    "    \n",
    "#     print('\\nThe mean absolute percentage error for Auto Arima is')\n",
    "#     print(smape(y_test,AutoArimaForecasts))\n",
    "#     props['AutoArima'] = AutoArimaModel\n",
    "#     MODEL_COMPARISON.loc[mc_cols_index,'Model'] = AutoArimaModel\n",
    "#     MODEL_COMPARISON.loc[mc_cols_index,'Model Name'] = 'Auto Regressive Integrated Moving Average'\n",
    "#     MODEL_COMPARISON.loc[mc_cols_index,'Mean Absolute Percentage Error'] = smape(y_test, AutoArimaForecasts)\n",
    "#     MODEL_COMPARISON.loc[mc_cols_index,'Mean Squared Error'] = mean_squared_error(y_test,AutoArimaForecasts)\n",
    "#     MODEL_COMPARISON.loc[mc_cols_index,'Mean Absolute Error'] = mean_absolute_error(y_test,AutoArimaForecasts)\n",
    "#     plt.plot(y_test,label='Actual Values')\n",
    "#     plt.plot(AutoArimaForecasts,label='Auto Arima Prediction')\n",
    "#     plt.legend(loc=2)\n",
    "#     plt.show()\n",
    "#     mc_cols_index += 1\n",
    "# # =============================================================================\n",
    "    \n",
    "# # =============================================================================\n",
    "# #     AUTO ARIMA\n",
    "# # =============================================================================\n",
    "\n",
    "# # # =============================================================================\n",
    "# # # NEURALPROPHET\n",
    "# # # =============================================================================\n",
    "\n",
    "# # # =============================================================================\n",
    "# #     print('\\n#### NEURAL PROPHET MODEL #### RUNNING WAIT ####')\n",
    "# #     dsy = pd.concat([X_train,y_train.rename('y')],axis=1)\n",
    "# # #     dsy.drop(X_train.columns,axis=1,inplace=True)\n",
    "# #     dsy['ds'] = dsy.index\n",
    "# #     neuralProphetModel = NeuralProphet(learning_rate=0.01,epochs=500,n_forecasts=12,loss_func='mse')\n",
    "# #     for col in X_train.columns:\n",
    "# #         neuralProphetModel.add_future_regressor(col)  \n",
    "# #     epoch_df_info = neuralProphetModel.fit(dsy,freq='D')\n",
    "# #     future = neuralProphetModel.make_future_dataframe(dsy,periods=len(y_test),regressors_df=X_test)\n",
    "# # #     future = neuralProphetModel.make_future_dataframe(dsy,periods=len(y_test))\n",
    "# #     future.index = X_test.index\n",
    "# #     neuralProphetForecasts = neuralProphetModel.predict(future)\n",
    "# #     neuralProphetForecasts.index = y_test.index\n",
    "# #     print('\\nThe mean squared error for Neural Prophet is') \n",
    "# #     print(mean_squared_error(y_test,neuralProphetForecasts['yhat1']))\n",
    "# #     props['NeuralProphet'] = neuralProphetModel\n",
    "# #     MODEL_COMPARISON.loc[mc_cols_index,'Model'] = neuralProphetModel\n",
    "# #     MODEL_COMPARISON.loc[mc_cols_index,'Model Name'] = 'Neural Prophet'\n",
    "# #     MODEL_COMPARISON.loc[mc_cols_index,'Mean Absolute Percentage Error'] = smape(y_test, neuralProphetForecasts['yhat1'])\n",
    "# #     MODEL_COMPARISON.loc[mc_cols_index,'Mean Squared Error'] = mean_squared_error(y_test,neuralProphetForecasts['yhat1'])\n",
    "# #     MODEL_COMPARISON.loc[mc_cols_index,'Mean Absolute Error'] = mean_absolute_error(y_test,neuralProphetForecasts['yhat1'])\n",
    "# #     plt.plot(y_test,label='Actual Values')\n",
    "# #     plt.plot(neuralProphetForecasts['yhat1'],label='Neural Prophet Prediction')\n",
    "# #     plt.legend(loc=2)\n",
    "# #     plt.show()\n",
    "# #     neural_prophet_plots(neuralProphetModel,neuralProphetForecasts)\n",
    "# #     mc_cols_index += 1\n",
    "# # # =============================================================================\n",
    "\n",
    "# # # =============================================================================\n",
    "# # # NEURALPROPHET\n",
    "# # # =============================================================================\n",
    "\n",
    "# # # =============================================================================\n",
    "# # # FBPROPHET\n",
    "# # # =============================================================================\n",
    "# #     print('\\n#### FBPROPHET MODEL #### RUNNING WAIT ####')\n",
    "# # #     fbspace = {  \n",
    "# # #     'changepoint_prior_scale': [0.01, 0.1],\n",
    "# # #     'seasonality_prior_scale': [1.0, 10.0],\n",
    "# # #     'seasonality_mode':['additive','multiplicative']\n",
    "# # # }\n",
    "    \n",
    "# # #     all_params = [dict(zip(fbspace.keys(), v)) for v in itertools.product(*fbspace.values())]\n",
    "# # #     rmses = []  # Store the RMSEs for each params here\n",
    "    \n",
    "# # #     # Use cross validation to evaluate all parameters\n",
    "# # #     for params in all_params:\n",
    "# # #         m = Prophet(**params)  # Fit model with given params\n",
    "# # #         for col in X_train.columns:\n",
    "# # #             m.add_regressor(col) \n",
    "# # #         m = m.fit(dsy)\n",
    "# # #         df_cv = fcv(m, horizon='30 days')\n",
    "# # #         df_p = performance_metrics(df_cv, rolling_window=1)\n",
    "# # #         rmses.append(df_p['rmse'].values[0])\n",
    "    \n",
    "# # #     # Find the best parameters\n",
    "# # # #     print('\\nPrinting Tuning Results!')\n",
    "# # # #     tuning_results = pd.DataFrame(all_params)\n",
    "# # # #     tuning_results['rmse'] = rmses\n",
    "# # # #     print(tuning_results)\n",
    "    \n",
    "# # #     best_params = all_params[np.argmin(rmses)]\n",
    "# # #     print('\\nFitting FBProphet with best params!')\n",
    "    \n",
    "# # #     fbprophetModel = Prophet(**best_params)\n",
    "# #     fbprophetModel = Prophet()\n",
    "# #     for col in X_train.columns:\n",
    "# #         fbprophetModel.add_regressor(col)\n",
    "# #     fbProphetForecasts = fbprophetModel.fit(dsy).predict(future)\n",
    "# #     fbProphetForecasts.index = y_test.index\n",
    "# #     print('\\nThe mean squared error for FBProphet is') \n",
    "# #     print(mean_squared_error(y_test,fbProphetForecasts['yhat']))\n",
    "# #     props['FBProphet'] = fbprophetModel\n",
    "# #     MODEL_COMPARISON.loc[mc_cols_index,'Model'] = fbprophetModel\n",
    "# #     MODEL_COMPARISON.loc[mc_cols_index,'Model Name'] = 'Facebook Prophet'\n",
    "# #     MODEL_COMPARISON.loc[mc_cols_index,'Mean Absolute Percentage Error'] = smape(y_test, fbProphetForecasts['yhat'])\n",
    "# #     MODEL_COMPARISON.loc[mc_cols_index,'Mean Squared Error'] = mean_squared_error(y_test,fbProphetForecasts['yhat'])\n",
    "# #     MODEL_COMPARISON.loc[mc_cols_index,'Mean Absolute Error'] = mean_absolute_error(y_test,fbProphetForecasts['yhat'])\n",
    "# #     plt.plot(y_test,label='Actual Values')\n",
    "# #     plt.plot(fbProphetForecasts['yhat'],label='FBProphet Prediction')\n",
    "# #     plt.legend(loc=2)\n",
    "# #     plt.show()\n",
    "# #     fbprophet_plots(fbprophetModel,fbProphetForecasts)\n",
    "# #     mc_cols_index += 1\n",
    "# # # =============================================================================\n",
    "\n",
    "# # # =============================================================================\n",
    "# # # FBPROPHET\n",
    "# # # =============================================================================\n",
    "\n",
    "#     MODEL_COMPARISON.drop(['Model'],axis=1).to_csv('MC.csv')\n",
    "\n",
    "#     return 1,props['exceptionsHandled']\n",
    "\n",
    "# if __name__ == '__main__':\n",
    "#     returnValue,numberOfErrors = main()\n",
    "#     print('\\n#### Code run successfully ####\\n')"
   ]
  },
  {
   "cell_type": "markdown",
   "metadata": {},
   "source": [
    "## Model Comparison"
   ]
  },
  {
   "cell_type": "code",
   "execution_count": 4,
   "metadata": {},
   "outputs": [
    {
     "name": "stdout",
     "output_type": "stream",
     "text": [
      "Lower the Mean Absolute Percent Error, better the model!\n",
      "#### WHILE SAVING CSV INDEX WILL START FROM 1\n"
     ]
    },
    {
     "data": {
      "text/html": [
       "<div>\n",
       "<style scoped>\n",
       "    .dataframe tbody tr th:only-of-type {\n",
       "        vertical-align: middle;\n",
       "    }\n",
       "\n",
       "    .dataframe tbody tr th {\n",
       "        vertical-align: top;\n",
       "    }\n",
       "\n",
       "    .dataframe thead th {\n",
       "        text-align: right;\n",
       "    }\n",
       "</style>\n",
       "<table border=\"1\" class=\"dataframe\">\n",
       "  <thead>\n",
       "    <tr style=\"text-align: right;\">\n",
       "      <th></th>\n",
       "      <th>Model Name</th>\n",
       "      <th>Mean Absolute Percentage Error</th>\n",
       "      <th>Mean Squared Error</th>\n",
       "      <th>Mean Absolute Error</th>\n",
       "    </tr>\n",
       "  </thead>\n",
       "  <tbody>\n",
       "    <tr>\n",
       "      <th>0</th>\n",
       "      <td>Auto Regressive Integrated Moving Average</td>\n",
       "      <td>50.667285</td>\n",
       "      <td>4.411967e+28</td>\n",
       "      <td>1.695628e+14</td>\n",
       "    </tr>\n",
       "  </tbody>\n",
       "</table>\n",
       "</div>"
      ],
      "text/plain": [
       "                                  Model Name  Mean Absolute Percentage Error  \\\n",
       "0  Auto Regressive Integrated Moving Average                       50.667285   \n",
       "\n",
       "   Mean Squared Error  Mean Absolute Error  \n",
       "0        4.411967e+28         1.695628e+14  "
      ]
     },
     "execution_count": 4,
     "metadata": {},
     "output_type": "execute_result"
    }
   ],
   "source": [
    "print('Lower the Mean Absolute Percent Error, better the model!')\n",
    "print('#### WHILE SAVING CSV INDEX WILL START FROM 1')\n",
    "pd.read_csv('MC.csv').drop('Unnamed: 0',axis=1).sort_values('Mean Absolute Percentage Error').reset_index(drop=True)"
   ]
  },
  {
   "cell_type": "code",
   "execution_count": 192,
   "metadata": {},
   "outputs": [
    {
     "name": "stdout",
     "output_type": "stream",
     "text": [
      "#### RUNNING WAIT ####\n",
      "extension is csv\n",
      "We have a csv file\n",
      "This file has 15 columns and 248 rows\n",
      "198 50\n"
     ]
    }
   ],
   "source": [
    "import pmdarima as pm\n",
    "from pmdarima import model_selection\n",
    "from sklearn.preprocessing import PowerTransformer,MinMaxScaler\n",
    "import matplotlib.pyplot as plt\n",
    "from statsmodels.tsa.stattools import adfuller\n",
    "from statsmodels.tsa.arima.model import ARIMA\n",
    "import inspect\n",
    "\n",
    "df,_ = importFile('inf.csv')\n",
    "df = df[['Turnover','Date']]\n",
    "df.index = df['Date']\n",
    "df.drop(['Date'],axis=1,inplace=True)\n",
    "margin = int(len(df)*0.8)\n",
    "train = df[:margin]\n",
    "test = df[margin:]\n",
    "print(len(train),len(test))"
   ]
  },
  {
   "cell_type": "code",
   "execution_count": 193,
   "metadata": {},
   "outputs": [
    {
     "data": {
      "text/plain": [
       "[<matplotlib.lines.Line2D at 0x1b423aa1f40>]"
      ]
     },
     "execution_count": 193,
     "metadata": {},
     "output_type": "execute_result"
    },
    {
     "data": {
      "image/png": "[encoded data removed]",
      "text/plain": [
       "<Figure size 432x288 with 1 Axes>"
      ]
     },
     "metadata": {},
     "output_type": "display_data"
    }
   ],
   "source": [
    "plt.plot(train)"
   ]
  },
  {
   "cell_type": "code",
   "execution_count": 195,
   "metadata": {},
   "outputs": [
    {
     "name": "stderr",
     "output_type": "stream",
     "text": [
      "C:\\Users\\Ganesh\\anaconda3\\envs\\myenv\\lib\\site-packages\\statsmodels\\tsa\\base\\tsa_model.py:216: ValueWarning: A date index has been provided, but it has no associated frequency information and so will be ignored when e.g. forecasting.\n",
      "  warnings.warn('A date index has been provided, but it has no'\n",
      "C:\\Users\\Ganesh\\anaconda3\\envs\\myenv\\lib\\site-packages\\statsmodels\\tsa\\base\\tsa_model.py:216: ValueWarning: A date index has been provided, but it has no associated frequency information and so will be ignored when e.g. forecasting.\n",
      "  warnings.warn('A date index has been provided, but it has no'\n",
      "C:\\Users\\Ganesh\\anaconda3\\envs\\myenv\\lib\\site-packages\\statsmodels\\tsa\\base\\tsa_model.py:216: ValueWarning: A date index has been provided, but it has no associated frequency information and so will be ignored when e.g. forecasting.\n",
      "  warnings.warn('A date index has been provided, but it has no'\n"
     ]
    }
   ],
   "source": [
    "arima = ARIMA(train,order=[20,2,40])"
   ]
  },
  {
   "cell_type": "code",
   "execution_count": 196,
   "metadata": {},
   "outputs": [
    {
     "name": "stderr",
     "output_type": "stream",
     "text": [
      "C:\\Users\\Ganesh\\anaconda3\\envs\\myenv\\lib\\site-packages\\statsmodels\\tsa\\statespace\\sarimax.py:963: UserWarning: Non-stationary starting autoregressive parameters found. Using zeros as starting parameters.\n",
      "  warn('Non-stationary starting autoregressive parameters'\n",
      "C:\\Users\\Ganesh\\anaconda3\\envs\\myenv\\lib\\site-packages\\statsmodels\\tsa\\statespace\\sarimax.py:975: UserWarning: Non-invertible starting MA parameters found. Using zeros as starting parameters.\n",
      "  warn('Non-invertible starting MA parameters found.'\n",
      "C:\\Users\\Ganesh\\anaconda3\\envs\\myenv\\lib\\site-packages\\statsmodels\\base\\model.py:567: ConvergenceWarning: Maximum Likelihood optimization failed to converge. Check mle_retvals\n",
      "  warn(\"Maximum Likelihood optimization failed to converge. \"\n"
     ]
    }
   ],
   "source": [
    "fitted_model = arima.fit()"
   ]
  },
  {
   "cell_type": "code",
   "execution_count": 197,
   "metadata": {},
   "outputs": [
    {
     "name": "stderr",
     "output_type": "stream",
     "text": [
      "C:\\Users\\Ganesh\\anaconda3\\envs\\myenv\\lib\\site-packages\\statsmodels\\tsa\\base\\tsa_model.py:580: ValueWarning: No supported index is available. Prediction results will be given with an integer index beginning at `start`.\n",
      "  warnings.warn('No supported index is available.'\n"
     ]
    }
   ],
   "source": [
    "preds = pd.Series(fitted_model.forecast(len(test)))\n",
    "preds.index = test.index"
   ]
  },
  {
   "cell_type": "code",
   "execution_count": 198,
   "metadata": {},
   "outputs": [
    {
     "name": "stdout",
     "output_type": "stream",
     "text": [
      "76.08871132541752\n"
     ]
    }
   ],
   "source": [
    "print(smape(preds,test))"
   ]
  },
  {
   "cell_type": "code",
   "execution_count": 199,
   "metadata": {
    "scrolled": true
   },
   "outputs": [
    {
     "data": {
      "text/plain": [
       "[<matplotlib.lines.Line2D at 0x1b41ce1aaf0>]"
      ]
     },
     "execution_count": 199,
     "metadata": {},
     "output_type": "execute_result"
    },
    {
     "data": {
      "image/png": "[encoded data removed]",
      "text/plain": [
       "<Figure size 432x288 with 1 Axes>"
      ]
     },
     "metadata": {},
     "output_type": "display_data"
    }
   ],
   "source": [
    "plt.plot(test,label='test')\n",
    "plt.plot(preds,label='preds')"
   ]
  }
 ],
 "metadata": {
  "kernelspec": {
   "display_name": "Python 3",
   "language": "python",
   "name": "python3"
  },
  "language_info": {
   "codemirror_mode": {
    "name": "ipython",
    "version": 3
   },
   "file_extension": ".py",
   "mimetype": "text/x-python",
   "name": "python",
   "nbconvert_exporter": "python",
   "pygments_lexer": "ipython3",
   "version": "3.8.5"
  }
 },
 "nbformat": 4,
 "nbformat_minor": 4
}
