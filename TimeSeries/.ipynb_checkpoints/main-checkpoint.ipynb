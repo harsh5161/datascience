{
 "cells": [
  {
   "cell_type": "markdown",
   "metadata": {},
   "source": [
    "## Imports"
   ]
  },
  {
   "cell_type": "code",
   "execution_count": 1,
   "metadata": {},
   "outputs": [],
   "source": [
    "# Modular Imports\n",
    "import numpy as np\n",
    "import pandas as pd\n",
    "import warnings\n",
    "warnings.simplefilter(action='ignore', category=FutureWarning)\n",
    "from userInputs import importFile,getInfo\n",
    "from engineerings import getDateColumns,time_engineering\n",
    "from plots import basicPlot\n",
    "from init import INIT\n",
    "import joblib\n",
    "\n",
    "# Time series Packages\n",
    "import pmdarima as pm\n",
    "import fbprophet as Prophet"
   ]
  },
  {
   "cell_type": "code",
   "execution_count": 2,
   "metadata": {
    "scrolled": false
   },
   "outputs": [
    {
     "name": "stdout",
     "output_type": "stream",
     "text": [
      "This is Time Series Folder and All functions and files will be contained here\n",
      "#### For now use only CSV files ####\n",
      "Enter filename for TimeSeries : stock.csv\n",
      "#### RUNNING WAIT ####\n",
      "extension is csv\n",
      "We have a csv file\n",
      "This file has 8 columns and 100 rows\n",
      "The columns found are :\n",
      "Index(['Unnamed:_0', 'Date', 'Open', 'High', 'Low', 'Close', 'Volume', 'Name'], dtype='object')\n",
      "Enter the target column : Close\n",
      "\n",
      "The date columns found are :\n",
      "['Date']\n",
      "Enter the primary date column : Date\n",
      "Enter the forecast period in the format years,months,days : 0,0,10\n",
      "The forecast period is : 10 days\n",
      "INFO SAVED!\n",
      "\n",
      "INIT STARTED!\n",
      "IMPORTING NECESSARY FILES\n",
      "#### RUNNING WAIT ####\n",
      "extension is csv\n",
      "We have a csv file\n",
      "This file has 8 columns and 251 rows\n",
      "(251, 8)\n",
      "\n",
      "#### Preparing Data For Univariate Analysis! ####\n",
      "\n",
      "(251, 2)\n",
      "\t\t stripping spaces, symbols, and lower casing all entries\n",
      "done ...\n",
      "\t\t Replacing empty and invalid strings\n",
      "done ...\n",
      "\t\t Replacing commas if present in Currencies\n",
      "done ...\n",
      "\t\t Finding Numeric Columns\n",
      "done ...\n",
      "\t\t   Date is of type datetime64[ns]\n",
      "\t\t   Close is of type float64\n",
      "Numeric Engineering time taken: 0.012671232223510742\n",
      "\n",
      "\n",
      "\n",
      "Printing DataFrame head!\n",
      "\n",
      "        Date   Close\n",
      "0 2017-01-03  178.05\n",
      "1 2017-01-04  178.32\n",
      "2 2017-01-05  177.71\n",
      "3 2017-01-06  178.23\n",
      "4 2017-01-09  177.27\n",
      "\n",
      "#### ENTERING TIME ENGINEERING ####\n",
      "\n",
      "UNPACKING PROPS\n",
      "\n",
      "Sorting DataFrame according to Primary Date Column\n",
      "\n",
      "Obtaining Year,Quarter,Month,Week,Day of Week,Day,Hour,Minute,Seconds,Weekend or not\n",
      "\n",
      "\n",
      "Things yet to be done\n",
      "1. Find Space between dates and equally space them!\n",
      "3. Get Near Holiday/not(+-5 days)\n",
      "5. Get business hours/not\n",
      "6. Get Morning/Afternoon/Evening/Night\n",
      "\n",
      "\n",
      "Removing columns with only one level\n",
      "Column 'Year' will be dropped since it has 1 level\n",
      "Column 'Hour' will be dropped since it has 1 level\n",
      "Column 'Minute' will be dropped since it has 1 level\n",
      "Column 'Seconds' will be dropped since it has 1 level\n",
      "\n",
      "Printing DataFrame Head\n",
      "\n",
      "        Date   Close  Quarter  Month  Week  Day of Week  Day  Weekend_or_not\n",
      "0 2017-01-03  178.05        1      1     1            1    3               1\n",
      "1 2017-01-04  178.32        1      1     1            2    4               0\n",
      "2 2017-01-05  177.71        1      1     1            3    5               0\n",
      "3 2017-01-06  178.23        1      1     1            4    6               0\n",
      "4 2017-01-09  177.27        1      1     2            0    9               1\n",
      "\n",
      "#### PACKING/UPDATING PROPS ####\n",
      "\n",
      "#### TIME ENGINEERING DONE ####\n",
      "\n",
      "#### Code run successfully ####\n",
      "\n"
     ]
    },
    {
     "data": {
      "image/png": "[encoded data removed]",
      "text/plain": [
       "<Figure size 432x288 with 1 Axes>"
      ]
     },
     "metadata": {
      "needs_background": "light"
     },
     "output_type": "display_data"
    }
   ],
   "source": [
    "def main(test=False,props=None):\n",
    "    print('This is Time Series Folder and All functions and files will be contained here')\n",
    "    print('#### For now use only CSV files ####')\n",
    "    ## Importing File ## We need to store CSV files in test folder in TimeSeries ##\n",
    "    if not test:\n",
    "        # For single file manual testing\n",
    "        path = input('Enter filename for TimeSeries : ').strip()\n",
    "        df,_ = importFile('./test/' + path,nrows=100)\n",
    "    else:\n",
    "        # For Automated Testing\n",
    "        df,_ = importFile('./test/' + props[path],nrows=100)\n",
    "    # Stripping trailing and leading spaces and replacing spaces in between with _\n",
    "    df.columns = [x.strip().replace(' ','_') for x in df.columns]\n",
    "    datecols,_ = getDateColumns(df.select_dtypes('object'))\n",
    "    if len(datecols) == 0:\n",
    "        print('No datecolumns found, QUITTING!')\n",
    "        return None,None\n",
    "    \n",
    "    info = getInfo(df.columns,datecols) # Get Target and Primary Date Column\n",
    "    \n",
    "    if not info:\n",
    "        print('QUITTING!')\n",
    "        return None,None\n",
    "\n",
    "    info['DateColumns'] = datecols\n",
    "    joblib.dump(info,'info');print('INFO SAVED!')\n",
    "    \n",
    "    # Reimporting complete data, slicing date and target columns,\n",
    "    props = INIT(path,info)\n",
    "    frontEndProgressBar = 'someValue'\n",
    "    \n",
    "    props = time_engineering(props)\n",
    "    frontEndProgressBar = 'someValue'\n",
    "    \n",
    "    basicPlot(props)\n",
    "    frontEndProgressBar = 'someValue'\n",
    "    \n",
    "    return 1,props['exceptionsHandled']\n",
    "\n",
    "if __name__ == '__main__':\n",
    "    returnValue,numberOfErrors = main()\n",
    "    print('\\n#### Code run successfully ####\\n')"
   ]
  },
  {
   "cell_type": "code",
   "execution_count": 3,
   "metadata": {},
   "outputs": [],
   "source": [
    "# a = pd.date_range('2020-11-17','2020-11-20')"
   ]
  },
  {
   "cell_type": "code",
   "execution_count": 4,
   "metadata": {},
   "outputs": [],
   "source": [
    "# pd.Series(a).dt.dayofweek"
   ]
  }
 ],
 "metadata": {
  "kernelspec": {
   "display_name": "Python 3",
   "language": "python",
   "name": "python3"
  },
  "language_info": {
   "codemirror_mode": {
    "name": "ipython",
    "version": 3
   },
   "file_extension": ".py",
   "mimetype": "text/x-python",
   "name": "python",
   "nbconvert_exporter": "python",
   "pygments_lexer": "ipython3",
   "version": "3.8.5"
  }
 },
 "nbformat": 4,
 "nbformat_minor": 4
}
