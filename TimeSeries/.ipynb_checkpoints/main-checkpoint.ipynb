{
 "cells": [
  {
   "cell_type": "markdown",
   "metadata": {},
   "source": [
    "## Imports"
   ]
  },
  {
   "cell_type": "code",
   "execution_count": null,
   "metadata": {},
   "outputs": [],
   "source": [
    "# Modular Imports\n",
    "import numpy as np\n",
    "import pandas as pd\n",
    "import warnings\n",
    "warnings.simplefilter(action='ignore', category=FutureWarning)\n",
    "from userInputs import importFile,getInfo\n",
    "from engineerings import getDateColumns,time_engineering\n",
    "from init import INIT\n",
    "import joblib\n",
    "\n",
    "# Time series Packages\n",
    "import pmdarima as pm\n",
    "import fbprophet as Prophet"
   ]
  },
  {
   "cell_type": "code",
   "execution_count": null,
   "metadata": {
    "scrolled": false
   },
   "outputs": [],
   "source": [
    "def main(test=False,props=None):\n",
    "    print('This is Time Series Folder and All functions and files will be contained here')\n",
    "    print('#### For now use only CSV files ####')\n",
    "    ## Importing File ## We need to store CSV files in test folder in TimeSeries ##\n",
    "    if not test:\n",
    "        # For single file manual testing\n",
    "        path = input('Enter filename for TimeSeries : ').strip()\n",
    "        df,_ = importFile('./test/' + path,nrows=100)\n",
    "    else:\n",
    "        # For Automated Testing\n",
    "        df,_ = importFile('./test/' + props[path],nrows=100)\n",
    "    # Stripping trailing and leading spaces and replacing spaces in between with _\n",
    "    df.columns = [x.strip().replace(' ','_') for x in df.columns]\n",
    "    datecols,_ = getDateColumns(df.select_dtypes('object'))\n",
    "    if len(datecols) == 0:\n",
    "        print('No datecolumns found, QUITTING!')\n",
    "        return None,None\n",
    "    \n",
    "    info = getInfo(df.columns,datecols) # Get Target and Primary Date Column\n",
    "    \n",
    "    if not info:\n",
    "        print('QUITTING!')\n",
    "        return None,None\n",
    "\n",
    "    info['DateColumns'] = datecols\n",
    "    joblib.dump(info,'info');print('INFO SAVED!')\n",
    "    \n",
    "    # Reimporting complete data, slicing date and target columns,\n",
    "    props = INIT(path,info)\n",
    "    frontEndProgressBar = 'someValue'\n",
    "    \n",
    "    props = time_engineering(props)\n",
    "    frontEndProgressBar = 'someValue'\n",
    "    \n",
    "    plots(props)\n",
    "    frontEndProgressBar = 'someValue'\n",
    "    \n",
    "    return 1,props['exceptionsHandled']\n",
    "\n",
    "if __name__ == '__main__':\n",
    "    returnValue,numberOfErrors = main()\n",
    "    print('\\n#### Code run successfully ####\\n')"
   ]
  },
  {
   "cell_type": "code",
   "execution_count": null,
   "metadata": {},
   "outputs": [],
   "source": [
    "# a = pd.date_range('2020-11-17','2020-11-20')"
   ]
  },
  {
   "cell_type": "code",
   "execution_count": null,
   "metadata": {},
   "outputs": [],
   "source": [
    "# pd.Series(a).dt.dayofweek"
   ]
  }
 ],
 "metadata": {
  "kernelspec": {
   "display_name": "Python 3",
   "language": "python",
   "name": "python3"
  },
  "language_info": {
   "codemirror_mode": {
    "name": "ipython",
    "version": 3
   },
   "file_extension": ".py",
   "mimetype": "text/x-python",
   "name": "python",
   "nbconvert_exporter": "python",
   "pygments_lexer": "ipython3",
   "version": "3.8.5"
  }
 },
 "nbformat": 4,
 "nbformat_minor": 4
}
