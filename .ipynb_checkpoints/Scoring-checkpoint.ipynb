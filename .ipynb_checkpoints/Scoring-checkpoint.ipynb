{
 "cells": [
  {
   "cell_type": "markdown",
   "metadata": {},
   "source": [
    "# Proton Scoring/Future Prediction"
   ]
  },
  {
   "cell_type": "markdown",
   "metadata": {},
   "source": [
    "## Imports"
   ]
  },
  {
   "cell_type": "code",
   "execution_count": null,
   "metadata": {},
   "outputs": [],
   "source": [
    "from userInputs import importFile,dataHandler\n",
    "from engineerings import *\n",
    "from all_other_functions import getDF\n",
    "from score import *\n",
    "import joblib\n",
    "import warnings\n",
    "warnings.filterwarnings('ignore')"
   ]
  },
  {
   "cell_type": "markdown",
   "metadata": {},
   "source": [
    "## Main Function"
   ]
  },
  {
   "cell_type": "code",
   "execution_count": null,
   "metadata": {
    "scrolled": false
   },
   "outputs": [],
   "source": [
    "def main():\n",
    "    # IMPORT MODEL    \n",
    "    model_info = joblib.load('model_info')\n",
    "    \n",
    "    # IMPORT SCORING FILE\n",
    "    dfPath = input('Enter the Scoring File path : ').strip()\n",
    "    df,_ = importFile(dfPath)\n",
    "    df = dataHandler(df)\n",
    "    print(df.columns)\n",
    "\n",
    "    # Filter DataFrame based on columns\n",
    "    df = getDF(df,model_info)\n",
    "    if not isinstance(df,pd.DataFrame): # If Columns don't match, \n",
    "        print('QUITTING!') # QUIT by printing what columns don't match/are not found\n",
    "        return 0\n",
    "    \n",
    "    # Numeric Engineering of DATA\n",
    "    print('\\n#### Entering Numeric Engineering ####\\n')\n",
    "    df = numeric_engineering(df)\n",
    "    \n",
    "    # SCORE\n",
    "    outputFile = score(df,model_info)    \n",
    "    \n",
    "    print('Done!')\n",
    "    return 0\n",
    "\n",
    "if __name__ == '__main__':\n",
    "    main()"
   ]
  },
  {
   "cell_type": "markdown",
   "metadata": {},
   "source": [
    "## Preview of Predictions"
   ]
  },
  {
   "cell_type": "code",
   "execution_count": null,
   "metadata": {},
   "outputs": [],
   "source": [
    "pd.read_csv('score.csv').head(20)"
   ]
  }
 ],
 "metadata": {
  "kernelspec": {
   "display_name": "Python 3",
   "language": "python",
   "name": "python3"
  },
  "language_info": {
   "codemirror_mode": {
    "name": "ipython",
    "version": 3
   },
   "file_extension": ".py",
   "mimetype": "text/x-python",
   "name": "python",
   "nbconvert_exporter": "python",
   "pygments_lexer": "ipython3",
   "version": "3.7.7"
  }
 },
 "nbformat": 4,
 "nbformat_minor": 4
}
